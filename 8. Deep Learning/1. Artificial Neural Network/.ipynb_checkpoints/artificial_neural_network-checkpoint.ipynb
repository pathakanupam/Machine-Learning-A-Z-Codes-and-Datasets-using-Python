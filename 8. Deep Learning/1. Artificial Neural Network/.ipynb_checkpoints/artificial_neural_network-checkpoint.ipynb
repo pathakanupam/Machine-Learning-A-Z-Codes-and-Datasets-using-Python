{
 "cells": [
  {
   "cell_type": "markdown",
   "metadata": {
    "colab_type": "text",
    "id": "lP6JLo1tGNBg"
   },
   "source": [
    "# Artificial Neural Network"
   ]
  },
  {
   "cell_type": "markdown",
   "metadata": {
    "colab_type": "text",
    "id": "gWZyYmS_UE_L"
   },
   "source": [
    "### Importing the libraries"
   ]
  },
  {
   "cell_type": "code",
   "execution_count": 98,
   "metadata": {},
   "outputs": [],
   "source": [
    "import numpy as np\n",
    "import pandas as pd\n",
    "import tensorflow as tf"
   ]
  },
  {
   "cell_type": "markdown",
   "metadata": {
    "colab_type": "text",
    "id": "1E0Q3aoKUCRX"
   },
   "source": [
    "## Part 1 - Data Preprocessing"
   ]
  },
  {
   "cell_type": "markdown",
   "metadata": {
    "colab_type": "text",
    "id": "cKWAkFVGUU0Z"
   },
   "source": [
    "### Importing the dataset"
   ]
  },
  {
   "cell_type": "code",
   "execution_count": 99,
   "metadata": {},
   "outputs": [
    {
     "data": {
      "text/html": [
       "<div>\n",
       "<style scoped>\n",
       "    .dataframe tbody tr th:only-of-type {\n",
       "        vertical-align: middle;\n",
       "    }\n",
       "\n",
       "    .dataframe tbody tr th {\n",
       "        vertical-align: top;\n",
       "    }\n",
       "\n",
       "    .dataframe thead th {\n",
       "        text-align: right;\n",
       "    }\n",
       "</style>\n",
       "<table border=\"1\" class=\"dataframe\">\n",
       "  <thead>\n",
       "    <tr style=\"text-align: right;\">\n",
       "      <th></th>\n",
       "      <th>RowNumber</th>\n",
       "      <th>CustomerId</th>\n",
       "      <th>Surname</th>\n",
       "      <th>CreditScore</th>\n",
       "      <th>Geography</th>\n",
       "      <th>Gender</th>\n",
       "      <th>Age</th>\n",
       "      <th>Tenure</th>\n",
       "      <th>Balance</th>\n",
       "      <th>NumOfProducts</th>\n",
       "      <th>HasCrCard</th>\n",
       "      <th>IsActiveMember</th>\n",
       "      <th>EstimatedSalary</th>\n",
       "      <th>Exited</th>\n",
       "    </tr>\n",
       "  </thead>\n",
       "  <tbody>\n",
       "    <tr>\n",
       "      <th>0</th>\n",
       "      <td>1</td>\n",
       "      <td>15634602</td>\n",
       "      <td>Hargrave</td>\n",
       "      <td>619</td>\n",
       "      <td>France</td>\n",
       "      <td>Female</td>\n",
       "      <td>42</td>\n",
       "      <td>2</td>\n",
       "      <td>0.00</td>\n",
       "      <td>1</td>\n",
       "      <td>1</td>\n",
       "      <td>1</td>\n",
       "      <td>101348.88</td>\n",
       "      <td>1</td>\n",
       "    </tr>\n",
       "    <tr>\n",
       "      <th>1</th>\n",
       "      <td>2</td>\n",
       "      <td>15647311</td>\n",
       "      <td>Hill</td>\n",
       "      <td>608</td>\n",
       "      <td>Spain</td>\n",
       "      <td>Female</td>\n",
       "      <td>41</td>\n",
       "      <td>1</td>\n",
       "      <td>83807.86</td>\n",
       "      <td>1</td>\n",
       "      <td>0</td>\n",
       "      <td>1</td>\n",
       "      <td>112542.58</td>\n",
       "      <td>0</td>\n",
       "    </tr>\n",
       "  </tbody>\n",
       "</table>\n",
       "</div>"
      ],
      "text/plain": [
       "   RowNumber  CustomerId   Surname  CreditScore Geography  Gender  Age  \\\n",
       "0          1    15634602  Hargrave          619    France  Female   42   \n",
       "1          2    15647311      Hill          608     Spain  Female   41   \n",
       "\n",
       "   Tenure   Balance  NumOfProducts  HasCrCard  IsActiveMember  \\\n",
       "0       2      0.00              1          1               1   \n",
       "1       1  83807.86              1          0               1   \n",
       "\n",
       "   EstimatedSalary  Exited  \n",
       "0        101348.88       1  \n",
       "1        112542.58       0  "
      ]
     },
     "execution_count": 99,
     "metadata": {},
     "output_type": "execute_result"
    }
   ],
   "source": [
    "data = pd.read_csv(r'Churn_Modelling.csv')\n",
    "\n",
    "X = data.iloc[:,3:-1].values\n",
    "y = data.iloc[:,-1].values\n",
    "data.head(2)"
   ]
  },
  {
   "cell_type": "code",
   "execution_count": 100,
   "metadata": {},
   "outputs": [
    {
     "name": "stdout",
     "output_type": "stream",
     "text": [
      "[[619 'France' 'Female' ... 1 1 101348.88]\n",
      " [608 'Spain' 'Female' ... 0 1 112542.58]\n",
      " [502 'France' 'Female' ... 1 0 113931.57]\n",
      " ...\n",
      " [709 'France' 'Female' ... 0 1 42085.58]\n",
      " [772 'Germany' 'Male' ... 1 0 92888.52]\n",
      " [792 'France' 'Female' ... 1 0 38190.78]]\n",
      "(10000, 10)\n"
     ]
    }
   ],
   "source": [
    "print(X)\n",
    "print(X.shape)"
   ]
  },
  {
   "cell_type": "code",
   "execution_count": 101,
   "metadata": {},
   "outputs": [
    {
     "name": "stdout",
     "output_type": "stream",
     "text": [
      "[1 0 1 ... 1 1 0]\n",
      "(10000,)\n"
     ]
    }
   ],
   "source": [
    "print(y)\n",
    "print(y.shape)"
   ]
  },
  {
   "cell_type": "code",
   "execution_count": 102,
   "metadata": {},
   "outputs": [
    {
     "data": {
      "text/plain": [
       "RowNumber          0\n",
       "CustomerId         0\n",
       "Surname            0\n",
       "CreditScore        0\n",
       "Geography          0\n",
       "Gender             0\n",
       "Age                0\n",
       "Tenure             0\n",
       "Balance            0\n",
       "NumOfProducts      0\n",
       "HasCrCard          0\n",
       "IsActiveMember     0\n",
       "EstimatedSalary    0\n",
       "Exited             0\n",
       "dtype: int64"
      ]
     },
     "execution_count": 102,
     "metadata": {},
     "output_type": "execute_result"
    }
   ],
   "source": [
    "data.isna().sum()"
   ]
  },
  {
   "cell_type": "markdown",
   "metadata": {},
   "source": [
    "There is no Missing Values in the dataset"
   ]
  },
  {
   "cell_type": "markdown",
   "metadata": {
    "colab_type": "text",
    "id": "N6bQ0UgSU-NJ"
   },
   "source": [
    "### Encoding categorical data"
   ]
  },
  {
   "cell_type": "markdown",
   "metadata": {
    "colab_type": "text",
    "id": "le5MJreAbW52"
   },
   "source": [
    "Label Encoding the \"Gender\" column"
   ]
  },
  {
   "cell_type": "code",
   "execution_count": 103,
   "metadata": {},
   "outputs": [],
   "source": [
    "from sklearn.preprocessing import LabelEncoder\n",
    "\n",
    "le = LabelEncoder()\n",
    "X[:,2] = le.fit_transform(X[:,2])"
   ]
  },
  {
   "cell_type": "markdown",
   "metadata": {
    "colab_type": "text",
    "id": "CUxGZezpbMcb"
   },
   "source": [
    "One Hot Encoding the \"Geography\" column"
   ]
  },
  {
   "cell_type": "code",
   "execution_count": 104,
   "metadata": {},
   "outputs": [],
   "source": [
    "from sklearn.compose import ColumnTransformer\n",
    "from sklearn.preprocessing import OneHotEncoder\n",
    "\n",
    "ct = ColumnTransformer(transformers = [('encoder', OneHotEncoder(), [1])], remainder='passthrough')\n",
    "X = ct.fit_transform(X)"
   ]
  },
  {
   "cell_type": "code",
   "execution_count": 105,
   "metadata": {},
   "outputs": [
    {
     "name": "stdout",
     "output_type": "stream",
     "text": [
      "[1.0 0.0 0.0 619 0 42 2 0.0 1 1 1 101348.88]\n"
     ]
    }
   ],
   "source": [
    "print(X[0])"
   ]
  },
  {
   "cell_type": "markdown",
   "metadata": {
    "colab_type": "text",
    "id": "vHol938cW8zd"
   },
   "source": [
    "### Splitting the dataset into the Training set and Test set"
   ]
  },
  {
   "cell_type": "code",
   "execution_count": 106,
   "metadata": {},
   "outputs": [],
   "source": [
    "from sklearn.model_selection import train_test_split\n",
    "\n",
    "X_train, X_test, y_train, y_test = train_test_split(X, y, test_size = 0.2)"
   ]
  },
  {
   "cell_type": "markdown",
   "metadata": {
    "colab_type": "text",
    "id": "RE_FcHyfV3TQ"
   },
   "source": [
    "### Feature Scaling"
   ]
  },
  {
   "cell_type": "code",
   "execution_count": 107,
   "metadata": {},
   "outputs": [],
   "source": [
    "from sklearn.preprocessing import StandardScaler\n",
    "\n",
    "sc = StandardScaler()\n",
    "X_train = sc.fit_transform(X_train)\n",
    "X_test = sc.transform(X_test)"
   ]
  },
  {
   "cell_type": "code",
   "execution_count": 108,
   "metadata": {},
   "outputs": [
    {
     "data": {
      "text/plain": [
       "array([ 0.998002  , -0.58062195, -0.57253893, -1.53723925,  0.91416872,\n",
       "        0.58101329, -1.73650554, -1.22381273, -0.90897079, -1.5421992 ,\n",
       "       -1.02711755, -0.26394717])"
      ]
     },
     "execution_count": 108,
     "metadata": {},
     "output_type": "execute_result"
    }
   ],
   "source": [
    "X_train[0]"
   ]
  },
  {
   "cell_type": "markdown",
   "metadata": {
    "colab_type": "text",
    "id": "-zfEzkRVXIwF"
   },
   "source": [
    "## Part 2 - Building the ANN"
   ]
  },
  {
   "cell_type": "markdown",
   "metadata": {
    "colab_type": "text",
    "id": "KvdeScabXtlB"
   },
   "source": [
    "### Initializing the ANN"
   ]
  },
  {
   "cell_type": "code",
   "execution_count": 109,
   "metadata": {},
   "outputs": [],
   "source": [
    "ann = tf.keras.models.Sequential()"
   ]
  },
  {
   "cell_type": "markdown",
   "metadata": {
    "colab_type": "text",
    "id": "rP6urV6SX7kS"
   },
   "source": [
    "### Adding the input layer and the first hidden layer"
   ]
  },
  {
   "cell_type": "code",
   "execution_count": 110,
   "metadata": {},
   "outputs": [],
   "source": [
    "ann.add(tf.keras.layers.Dense(units = 6, activation = 'relu'))"
   ]
  },
  {
   "cell_type": "markdown",
   "metadata": {
    "colab_type": "text",
    "id": "BELWAc_8YJze"
   },
   "source": [
    "### Adding the second hidden layer"
   ]
  },
  {
   "cell_type": "code",
   "execution_count": 111,
   "metadata": {},
   "outputs": [],
   "source": [
    "ann.add(tf.keras.layers.Dense(units = 6, activation = 'relu'))"
   ]
  },
  {
   "cell_type": "markdown",
   "metadata": {
    "colab_type": "text",
    "id": "OyNEe6RXYcU4"
   },
   "source": [
    "### Adding the output layer"
   ]
  },
  {
   "cell_type": "code",
   "execution_count": 112,
   "metadata": {},
   "outputs": [],
   "source": [
    "ann.add(tf.keras.layers.Dense(units = 1, activation = 'sigmoid'))"
   ]
  },
  {
   "cell_type": "markdown",
   "metadata": {
    "colab_type": "text",
    "id": "JT4u2S1_Y4WG"
   },
   "source": [
    "## Part 3 - Training the ANN"
   ]
  },
  {
   "cell_type": "markdown",
   "metadata": {
    "colab_type": "text",
    "id": "8GWlJChhY_ZI"
   },
   "source": [
    "### Compiling the ANN"
   ]
  },
  {
   "cell_type": "code",
   "execution_count": 113,
   "metadata": {},
   "outputs": [],
   "source": [
    "ann.compile(loss='binary_crossentropy', optimizer='adam', metrics=['accuracy'])"
   ]
  },
  {
   "cell_type": "markdown",
   "metadata": {
    "colab_type": "text",
    "id": "0QR_G5u7ZLSM"
   },
   "source": [
    "### Training the ANN on the Training set"
   ]
  },
  {
   "cell_type": "code",
   "execution_count": 114,
   "metadata": {},
   "outputs": [
    {
     "name": "stdout",
     "output_type": "stream",
     "text": [
      "Epoch 1/100\n",
      "8000/8000 [==============================] - 2s 233us/sample - loss: 0.5612 - acc: 0.7918\n",
      "Epoch 2/100\n",
      "8000/8000 [==============================] - 1s 95us/sample - loss: 0.4717 - acc: 0.7925\n",
      "Epoch 3/100\n",
      "8000/8000 [==============================] - 1s 109us/sample - loss: 0.4434 - acc: 0.7954\n",
      "Epoch 4/100\n",
      "8000/8000 [==============================] - 1s 103us/sample - loss: 0.4320 - acc: 0.8044\n",
      "Epoch 5/100\n",
      "8000/8000 [==============================] - 1s 80us/sample - loss: 0.4252 - acc: 0.8100\n",
      "Epoch 6/100\n",
      "8000/8000 [==============================] - 1s 95us/sample - loss: 0.4183 - acc: 0.8145\n",
      "Epoch 7/100\n",
      "8000/8000 [==============================] - 1s 87us/sample - loss: 0.4107 - acc: 0.8194\n",
      "Epoch 8/100\n",
      "8000/8000 [==============================] - 1s 124us/sample - loss: 0.4029 - acc: 0.8213\n",
      "Epoch 9/100\n",
      "8000/8000 [==============================] - 1s 85us/sample - loss: 0.3964 - acc: 0.8209\n",
      "Epoch 10/100\n",
      "8000/8000 [==============================] - 1s 80us/sample - loss: 0.3901 - acc: 0.8256\n",
      "Epoch 11/100\n",
      "8000/8000 [==============================] - 1s 85us/sample - loss: 0.3848 - acc: 0.8338\n",
      "Epoch 12/100\n",
      "8000/8000 [==============================] - 1s 85us/sample - loss: 0.3800 - acc: 0.8379\n",
      "Epoch 13/100\n",
      "8000/8000 [==============================] - 1s 82us/sample - loss: 0.3754 - acc: 0.8404\n",
      "Epoch 14/100\n",
      "8000/8000 [==============================] - 1s 84us/sample - loss: 0.3710 - acc: 0.8449\n",
      "Epoch 15/100\n",
      "8000/8000 [==============================] - 1s 67us/sample - loss: 0.3669 - acc: 0.8446\n",
      "Epoch 16/100\n",
      "8000/8000 [==============================] - 1s 80us/sample - loss: 0.3634 - acc: 0.8471\n",
      "Epoch 17/100\n",
      "8000/8000 [==============================] - 1s 75us/sample - loss: 0.3605 - acc: 0.8529\n",
      "Epoch 18/100\n",
      "8000/8000 [==============================] - 1s 86us/sample - loss: 0.3582 - acc: 0.8531\n",
      "Epoch 19/100\n",
      "8000/8000 [==============================] - 1s 75us/sample - loss: 0.3558 - acc: 0.8539\n",
      "Epoch 20/100\n",
      "8000/8000 [==============================] - 1s 67us/sample - loss: 0.3538 - acc: 0.8525\n",
      "Epoch 21/100\n",
      "8000/8000 [==============================] - 1s 76us/sample - loss: 0.3523 - acc: 0.8547\n",
      "Epoch 22/100\n",
      "8000/8000 [==============================] - 1s 69us/sample - loss: 0.3507 - acc: 0.8565\n",
      "Epoch 23/100\n",
      "8000/8000 [==============================] - 1s 75us/sample - loss: 0.3496 - acc: 0.8559\n",
      "Epoch 24/100\n",
      "8000/8000 [==============================] - 1s 73us/sample - loss: 0.3488 - acc: 0.8566\n",
      "Epoch 25/100\n",
      "8000/8000 [==============================] - 1s 74us/sample - loss: 0.3473 - acc: 0.8591\n",
      "Epoch 26/100\n",
      "8000/8000 [==============================] - 1s 84us/sample - loss: 0.3463 - acc: 0.8600\n",
      "Epoch 27/100\n",
      "8000/8000 [==============================] - 1s 83us/sample - loss: 0.3457 - acc: 0.8587\n",
      "Epoch 28/100\n",
      "8000/8000 [==============================] - 1s 78us/sample - loss: 0.3446 - acc: 0.8583\n",
      "Epoch 29/100\n",
      "8000/8000 [==============================] - 1s 74us/sample - loss: 0.3444 - acc: 0.8583\n",
      "Epoch 30/100\n",
      "8000/8000 [==============================] - 1s 72us/sample - loss: 0.3437 - acc: 0.8585\n",
      "Epoch 31/100\n",
      "8000/8000 [==============================] - 1s 82us/sample - loss: 0.3428 - acc: 0.8601\n",
      "Epoch 32/100\n",
      "8000/8000 [==============================] - 1s 81us/sample - loss: 0.3427 - acc: 0.8572\n",
      "Epoch 33/100\n",
      "8000/8000 [==============================] - 1s 70us/sample - loss: 0.3419 - acc: 0.8610\n",
      "Epoch 34/100\n",
      "8000/8000 [==============================] - 1s 74us/sample - loss: 0.3415 - acc: 0.8595\n",
      "Epoch 35/100\n",
      "8000/8000 [==============================] - 1s 81us/sample - loss: 0.3409 - acc: 0.8605\n",
      "Epoch 36/100\n",
      "8000/8000 [==============================] - 1s 72us/sample - loss: 0.3407 - acc: 0.8591\n",
      "Epoch 37/100\n",
      "8000/8000 [==============================] - 1s 71us/sample - loss: 0.3403 - acc: 0.8601\n",
      "Epoch 38/100\n",
      "8000/8000 [==============================] - 1s 75us/sample - loss: 0.3402 - acc: 0.8614\n",
      "Epoch 39/100\n",
      "8000/8000 [==============================] - 1s 76us/sample - loss: 0.3398 - acc: 0.8609\n",
      "Epoch 40/100\n",
      "8000/8000 [==============================] - 1s 72us/sample - loss: 0.3397 - acc: 0.8612\n",
      "Epoch 41/100\n",
      "8000/8000 [==============================] - 1s 77us/sample - loss: 0.3389 - acc: 0.8594\n",
      "Epoch 42/100\n",
      "8000/8000 [==============================] - 1s 77us/sample - loss: 0.3389 - acc: 0.8612\n",
      "Epoch 43/100\n",
      "8000/8000 [==============================] - 1s 65us/sample - loss: 0.3388 - acc: 0.8621\n",
      "Epoch 44/100\n",
      "8000/8000 [==============================] - 1s 72us/sample - loss: 0.3382 - acc: 0.8621\n",
      "Epoch 45/100\n",
      "8000/8000 [==============================] - 1s 76us/sample - loss: 0.3379 - acc: 0.8606\n",
      "Epoch 46/100\n",
      "8000/8000 [==============================] - 1s 80us/sample - loss: 0.3382 - acc: 0.8599\n",
      "Epoch 47/100\n",
      "8000/8000 [==============================] - 1s 82us/sample - loss: 0.3381 - acc: 0.8633\n",
      "Epoch 48/100\n",
      "8000/8000 [==============================] - 1s 78us/sample - loss: 0.3382 - acc: 0.8586\n",
      "Epoch 49/100\n",
      "8000/8000 [==============================] - 1s 69us/sample - loss: 0.3381 - acc: 0.8622\n",
      "Epoch 50/100\n",
      "8000/8000 [==============================] - 1s 68us/sample - loss: 0.3375 - acc: 0.8614\n",
      "Epoch 51/100\n",
      "8000/8000 [==============================] - 1s 77us/sample - loss: 0.3375 - acc: 0.8620\n",
      "Epoch 52/100\n",
      "8000/8000 [==============================] - 1s 73us/sample - loss: 0.3373 - acc: 0.8619\n",
      "Epoch 53/100\n",
      "8000/8000 [==============================] - 1s 73us/sample - loss: 0.3375 - acc: 0.8611\n",
      "Epoch 54/100\n",
      "8000/8000 [==============================] - 1s 76us/sample - loss: 0.3370 - acc: 0.8606\n",
      "Epoch 55/100\n",
      "8000/8000 [==============================] - 1s 75us/sample - loss: 0.3369 - acc: 0.8612\n",
      "Epoch 56/100\n",
      "8000/8000 [==============================] - 1s 73us/sample - loss: 0.3371 - acc: 0.8620\n",
      "Epoch 57/100\n",
      "8000/8000 [==============================] - 1s 74us/sample - loss: 0.3368 - acc: 0.8604\n",
      "Epoch 58/100\n",
      "8000/8000 [==============================] - 1s 72us/sample - loss: 0.3368 - acc: 0.8602\n",
      "Epoch 59/100\n",
      "8000/8000 [==============================] - 1s 68us/sample - loss: 0.3366 - acc: 0.8615\n",
      "Epoch 60/100\n",
      "8000/8000 [==============================] - 1s 68us/sample - loss: 0.3363 - acc: 0.8622\n",
      "Epoch 61/100\n",
      "8000/8000 [==============================] - 1s 68us/sample - loss: 0.3365 - acc: 0.8626\n",
      "Epoch 62/100\n",
      "8000/8000 [==============================] - 1s 70us/sample - loss: 0.3366 - acc: 0.8627\n",
      "Epoch 63/100\n",
      "8000/8000 [==============================] - 1s 64us/sample - loss: 0.3367 - acc: 0.8606\n",
      "Epoch 64/100\n",
      "8000/8000 [==============================] - 1s 71us/sample - loss: 0.3366 - acc: 0.8640\n",
      "Epoch 65/100\n",
      "8000/8000 [==============================] - 1s 70us/sample - loss: 0.3365 - acc: 0.8616\n",
      "Epoch 66/100\n",
      "8000/8000 [==============================] - 1s 72us/sample - loss: 0.3367 - acc: 0.8626\n",
      "Epoch 67/100\n",
      "8000/8000 [==============================] - 1s 75us/sample - loss: 0.3365 - acc: 0.8614\n",
      "Epoch 68/100\n",
      "8000/8000 [==============================] - 1s 72us/sample - loss: 0.3363 - acc: 0.8622\n",
      "Epoch 69/100\n",
      "8000/8000 [==============================] - 1s 74us/sample - loss: 0.3358 - acc: 0.8631\n",
      "Epoch 70/100\n",
      "8000/8000 [==============================] - 1s 79us/sample - loss: 0.3362 - acc: 0.8620\n",
      "Epoch 71/100\n",
      "8000/8000 [==============================] - 1s 75us/sample - loss: 0.3365 - acc: 0.8621\n",
      "Epoch 72/100\n",
      "8000/8000 [==============================] - 1s 75us/sample - loss: 0.3362 - acc: 0.8616\n",
      "Epoch 73/100\n",
      "8000/8000 [==============================] - 1s 70us/sample - loss: 0.3360 - acc: 0.8618\n",
      "Epoch 74/100\n",
      "8000/8000 [==============================] - 1s 72us/sample - loss: 0.3357 - acc: 0.8620\n",
      "Epoch 75/100\n",
      "8000/8000 [==============================] - 1s 77us/sample - loss: 0.3359 - acc: 0.8616\n",
      "Epoch 76/100\n",
      "8000/8000 [==============================] - 1s 67us/sample - loss: 0.3359 - acc: 0.8618\n",
      "Epoch 77/100\n",
      "8000/8000 [==============================] - 1s 73us/sample - loss: 0.3357 - acc: 0.8619\n",
      "Epoch 78/100\n",
      "8000/8000 [==============================] - 1s 74us/sample - loss: 0.3360 - acc: 0.8614\n",
      "Epoch 79/100\n",
      "8000/8000 [==============================] - 1s 71us/sample - loss: 0.3352 - acc: 0.8626\n",
      "Epoch 80/100\n",
      "8000/8000 [==============================] - 1s 71us/sample - loss: 0.3360 - acc: 0.8609\n",
      "Epoch 81/100\n",
      "8000/8000 [==============================] - 1s 65us/sample - loss: 0.3353 - acc: 0.8622\n",
      "Epoch 82/100\n",
      "8000/8000 [==============================] - 1s 70us/sample - loss: 0.3358 - acc: 0.8620\n",
      "Epoch 83/100\n",
      "8000/8000 [==============================] - 1s 68us/sample - loss: 0.3357 - acc: 0.8625\n",
      "Epoch 84/100\n",
      "8000/8000 [==============================] - 1s 65us/sample - loss: 0.3354 - acc: 0.8619\n",
      "Epoch 85/100\n",
      "8000/8000 [==============================] - 1s 73us/sample - loss: 0.3356 - acc: 0.8615\n",
      "Epoch 86/100\n",
      "8000/8000 [==============================] - 1s 81us/sample - loss: 0.3358 - acc: 0.8610\n",
      "Epoch 87/100\n",
      "8000/8000 [==============================] - 1s 69us/sample - loss: 0.3350 - acc: 0.8627\n",
      "Epoch 88/100\n",
      "8000/8000 [==============================] - 1s 84us/sample - loss: 0.3354 - acc: 0.8626\n",
      "Epoch 89/100\n",
      "8000/8000 [==============================] - 1s 71us/sample - loss: 0.3352 - acc: 0.8625\n",
      "Epoch 90/100\n",
      "8000/8000 [==============================] - 1s 70us/sample - loss: 0.3353 - acc: 0.8618\n",
      "Epoch 91/100\n",
      "8000/8000 [==============================] - 1s 70us/sample - loss: 0.3352 - acc: 0.8624\n",
      "Epoch 92/100\n",
      "8000/8000 [==============================] - 1s 70us/sample - loss: 0.3352 - acc: 0.8641\n",
      "Epoch 93/100\n",
      "8000/8000 [==============================] - 1s 85us/sample - loss: 0.3352 - acc: 0.8626\n",
      "Epoch 94/100\n",
      "8000/8000 [==============================] - 1s 73us/sample - loss: 0.3348 - acc: 0.8627\n",
      "Epoch 95/100\n",
      "8000/8000 [==============================] - 1s 69us/sample - loss: 0.3351 - acc: 0.8616\n",
      "Epoch 96/100\n",
      "8000/8000 [==============================] - 1s 69us/sample - loss: 0.3351 - acc: 0.8610\n",
      "Epoch 97/100\n",
      "8000/8000 [==============================] - 1s 73us/sample - loss: 0.3345 - acc: 0.8626\n",
      "Epoch 98/100\n",
      "8000/8000 [==============================] - 1s 73us/sample - loss: 0.3347 - acc: 0.8648\n",
      "Epoch 99/100\n",
      "8000/8000 [==============================] - 1s 69us/sample - loss: 0.3347 - acc: 0.8612\n",
      "Epoch 100/100\n",
      "8000/8000 [==============================] - 1s 68us/sample - loss: 0.3350 - acc: 0.8630\n"
     ]
    },
    {
     "data": {
      "text/plain": [
       "<tensorflow.python.keras.callbacks.History at 0x26fc7734a58>"
      ]
     },
     "execution_count": 114,
     "metadata": {},
     "output_type": "execute_result"
    }
   ],
   "source": [
    "ann.fit(X_train, y_train, batch_size = 32, epochs = 100)"
   ]
  },
  {
   "cell_type": "markdown",
   "metadata": {
    "colab_type": "text",
    "id": "tJj5k2MxZga3"
   },
   "source": [
    "## Part 4 - Making the predictions and evaluating the model"
   ]
  },
  {
   "cell_type": "markdown",
   "metadata": {
    "colab_type": "text",
    "id": "84QFoqGYeXHL"
   },
   "source": [
    "### Predicting the result of a single observation"
   ]
  },
  {
   "cell_type": "markdown",
   "metadata": {
    "colab_type": "text",
    "id": "CGRo3eacgDdC"
   },
   "source": [
    "**Homework**\n",
    "\n",
    "Use our ANN model to predict if the customer with the following informations will leave the bank: \n",
    "\n",
    "Geography: France\n",
    "\n",
    "Credit Score: 600\n",
    "\n",
    "Gender: Male\n",
    "\n",
    "Age: 40 years old\n",
    "\n",
    "Tenure: 3 years\n",
    "\n",
    "Balance: \\$ 60000\n",
    "\n",
    "Number of Products: 2\n",
    "\n",
    "Does this customer have a credit card ? Yes\n",
    "\n",
    "Is this customer an Active Member: Yes\n",
    "\n",
    "Estimated Salary: \\$ 50000\n",
    "\n",
    "So, should we say goodbye to that customer ?"
   ]
  },
  {
   "cell_type": "markdown",
   "metadata": {
    "colab_type": "text",
    "id": "ZhU1LTgPg-kH"
   },
   "source": [
    "**Solution**"
   ]
  },
  {
   "cell_type": "code",
   "execution_count": 141,
   "metadata": {},
   "outputs": [
    {
     "name": "stdout",
     "output_type": "stream",
     "text": [
      "Customer stays in the bank\n"
     ]
    }
   ],
   "source": [
    "X_test_1 = np.array([[600, 'France', 'Female', 40, 3, 60000, 2, 1, 1, 50000]])\n",
    "\n",
    "\n",
    "X_test_1[:, 2] = le.transform(X_test_1[:, 2]) ; X_test_1 = ct.transform(X_test_1); X_test_1 = sc.transform(X_test_1)\n",
    "\n",
    "if ann.predict(X_test_1) > 0.5 : \n",
    "    print('Customer will leave')\n",
    "else : \n",
    "    print('Customer stays in the bank')"
   ]
  },
  {
   "cell_type": "markdown",
   "metadata": {},
   "source": [
    "....................................................................................................................................................."
   ]
  },
  {
   "cell_type": "markdown",
   "metadata": {
    "colab_type": "text",
    "id": "wGjx94g2n7OV"
   },
   "source": [
    "Therefore, our ANN model predicts that this customer stays in the bank!\n",
    "\n",
    "**Important note 1:** Notice that the values of the features were all input in a double pair of square brackets. That's because the \"predict\" method always expects a 2D array as the format of its inputs. And putting our values into a double pair of square brackets makes the input exactly a 2D array.\n",
    "\n",
    "**Important note 2:** Notice also that the \"France\" country was not input as a string in the last column but as \"1, 0, 0\" in the first three columns. That's because of course the predict method expects the one-hot-encoded values of the state, and as we see in the first row of the matrix of features X, \"France\" was encoded as \"1, 0, 0\". And be careful to include these values in the first three columns, because the dummy variables are always created in the first columns."
   ]
  },
  {
   "cell_type": "markdown",
   "metadata": {
    "colab_type": "text",
    "id": "u7yx47jPZt11"
   },
   "source": [
    "### Predicting the Test set results"
   ]
  },
  {
   "cell_type": "code",
   "execution_count": 165,
   "metadata": {},
   "outputs": [],
   "source": [
    "y_pred = ann.predict(X_test)\n",
    "y_pred = np.where(y_pred > 0.5, 1,0)"
   ]
  },
  {
   "cell_type": "markdown",
   "metadata": {
    "colab_type": "text",
    "id": "o0oyfLWoaEGw"
   },
   "source": [
    "### Making the Confusion Matrix"
   ]
  },
  {
   "cell_type": "code",
   "execution_count": 167,
   "metadata": {},
   "outputs": [
    {
     "data": {
      "text/plain": [
       "array([[1559,   66],\n",
       "       [ 195,  180]], dtype=int64)"
      ]
     },
     "execution_count": 167,
     "metadata": {},
     "output_type": "execute_result"
    }
   ],
   "source": [
    "from sklearn.metrics import confusion_matrix\n",
    "\n",
    "confusion_matrix(y_test, y_pred)"
   ]
  },
  {
   "cell_type": "code",
   "execution_count": 169,
   "metadata": {},
   "outputs": [
    {
     "data": {
      "text/plain": [
       "0.8695"
      ]
     },
     "execution_count": 169,
     "metadata": {},
     "output_type": "execute_result"
    }
   ],
   "source": [
    "from sklearn.metrics import accuracy_score\n",
    "accuracy_score(y_test, y_pred)"
   ]
  }
 ],
 "metadata": {
  "colab": {
   "collapsed_sections": [],
   "name": "artificial_neural_network.ipynb",
   "provenance": [],
   "toc_visible": true
  },
  "kernelspec": {
   "display_name": "Python 3",
   "language": "python",
   "name": "python3"
  },
  "language_info": {
   "codemirror_mode": {
    "name": "ipython",
    "version": 3
   },
   "file_extension": ".py",
   "mimetype": "text/x-python",
   "name": "python",
   "nbconvert_exporter": "python",
   "pygments_lexer": "ipython3",
   "version": "3.7.3"
  }
 },
 "nbformat": 4,
 "nbformat_minor": 4
}
