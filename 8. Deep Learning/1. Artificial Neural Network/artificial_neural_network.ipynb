{
 "cells": [
  {
   "cell_type": "markdown",
   "metadata": {
    "colab_type": "text",
    "id": "lP6JLo1tGNBg"
   },
   "source": [
    "# Artificial Neural Network"
   ]
  },
  {
   "cell_type": "markdown",
   "metadata": {
    "colab_type": "text",
    "id": "gWZyYmS_UE_L"
   },
   "source": [
    "### Importing the libraries"
   ]
  },
  {
   "cell_type": "code",
   "execution_count": 170,
   "metadata": {},
   "outputs": [],
   "source": [
    "import numpy as np\n",
    "import pandas as pd\n",
    "import tensorflow as tf"
   ]
  },
  {
   "cell_type": "markdown",
   "metadata": {
    "colab_type": "text",
    "id": "1E0Q3aoKUCRX"
   },
   "source": [
    "## Part 1 - Data Preprocessing"
   ]
  },
  {
   "cell_type": "markdown",
   "metadata": {
    "colab_type": "text",
    "id": "cKWAkFVGUU0Z"
   },
   "source": [
    "### Importing the dataset"
   ]
  },
  {
   "cell_type": "code",
   "execution_count": 171,
   "metadata": {},
   "outputs": [
    {
     "data": {
      "text/html": [
       "<div>\n",
       "<style scoped>\n",
       "    .dataframe tbody tr th:only-of-type {\n",
       "        vertical-align: middle;\n",
       "    }\n",
       "\n",
       "    .dataframe tbody tr th {\n",
       "        vertical-align: top;\n",
       "    }\n",
       "\n",
       "    .dataframe thead th {\n",
       "        text-align: right;\n",
       "    }\n",
       "</style>\n",
       "<table border=\"1\" class=\"dataframe\">\n",
       "  <thead>\n",
       "    <tr style=\"text-align: right;\">\n",
       "      <th></th>\n",
       "      <th>RowNumber</th>\n",
       "      <th>CustomerId</th>\n",
       "      <th>Surname</th>\n",
       "      <th>CreditScore</th>\n",
       "      <th>Geography</th>\n",
       "      <th>Gender</th>\n",
       "      <th>Age</th>\n",
       "      <th>Tenure</th>\n",
       "      <th>Balance</th>\n",
       "      <th>NumOfProducts</th>\n",
       "      <th>HasCrCard</th>\n",
       "      <th>IsActiveMember</th>\n",
       "      <th>EstimatedSalary</th>\n",
       "      <th>Exited</th>\n",
       "    </tr>\n",
       "  </thead>\n",
       "  <tbody>\n",
       "    <tr>\n",
       "      <th>0</th>\n",
       "      <td>1</td>\n",
       "      <td>15634602</td>\n",
       "      <td>Hargrave</td>\n",
       "      <td>619</td>\n",
       "      <td>France</td>\n",
       "      <td>Female</td>\n",
       "      <td>42</td>\n",
       "      <td>2</td>\n",
       "      <td>0.00</td>\n",
       "      <td>1</td>\n",
       "      <td>1</td>\n",
       "      <td>1</td>\n",
       "      <td>101348.88</td>\n",
       "      <td>1</td>\n",
       "    </tr>\n",
       "    <tr>\n",
       "      <th>1</th>\n",
       "      <td>2</td>\n",
       "      <td>15647311</td>\n",
       "      <td>Hill</td>\n",
       "      <td>608</td>\n",
       "      <td>Spain</td>\n",
       "      <td>Female</td>\n",
       "      <td>41</td>\n",
       "      <td>1</td>\n",
       "      <td>83807.86</td>\n",
       "      <td>1</td>\n",
       "      <td>0</td>\n",
       "      <td>1</td>\n",
       "      <td>112542.58</td>\n",
       "      <td>0</td>\n",
       "    </tr>\n",
       "  </tbody>\n",
       "</table>\n",
       "</div>"
      ],
      "text/plain": [
       "   RowNumber  CustomerId   Surname  CreditScore Geography  Gender  Age  \\\n",
       "0          1    15634602  Hargrave          619    France  Female   42   \n",
       "1          2    15647311      Hill          608     Spain  Female   41   \n",
       "\n",
       "   Tenure   Balance  NumOfProducts  HasCrCard  IsActiveMember  \\\n",
       "0       2      0.00              1          1               1   \n",
       "1       1  83807.86              1          0               1   \n",
       "\n",
       "   EstimatedSalary  Exited  \n",
       "0        101348.88       1  \n",
       "1        112542.58       0  "
      ]
     },
     "execution_count": 171,
     "metadata": {},
     "output_type": "execute_result"
    }
   ],
   "source": [
    "data = pd.read_csv(r'Churn_Modelling.csv')\n",
    "\n",
    "X = data.iloc[:,3:-1].values\n",
    "y = data.iloc[:,-1].values\n",
    "data.head(2)"
   ]
  },
  {
   "cell_type": "code",
   "execution_count": 172,
   "metadata": {},
   "outputs": [
    {
     "name": "stdout",
     "output_type": "stream",
     "text": [
      "[[619 'France' 'Female' ... 1 1 101348.88]\n",
      " [608 'Spain' 'Female' ... 0 1 112542.58]\n",
      " [502 'France' 'Female' ... 1 0 113931.57]\n",
      " ...\n",
      " [709 'France' 'Female' ... 0 1 42085.58]\n",
      " [772 'Germany' 'Male' ... 1 0 92888.52]\n",
      " [792 'France' 'Female' ... 1 0 38190.78]]\n",
      "(10000, 10)\n"
     ]
    }
   ],
   "source": [
    "print(X)\n",
    "print(X.shape)"
   ]
  },
  {
   "cell_type": "code",
   "execution_count": 173,
   "metadata": {},
   "outputs": [
    {
     "name": "stdout",
     "output_type": "stream",
     "text": [
      "[1 0 1 ... 1 1 0]\n",
      "(10000,)\n"
     ]
    }
   ],
   "source": [
    "print(y)\n",
    "print(y.shape)"
   ]
  },
  {
   "cell_type": "code",
   "execution_count": 174,
   "metadata": {},
   "outputs": [
    {
     "data": {
      "text/plain": [
       "RowNumber          0\n",
       "CustomerId         0\n",
       "Surname            0\n",
       "CreditScore        0\n",
       "Geography          0\n",
       "Gender             0\n",
       "Age                0\n",
       "Tenure             0\n",
       "Balance            0\n",
       "NumOfProducts      0\n",
       "HasCrCard          0\n",
       "IsActiveMember     0\n",
       "EstimatedSalary    0\n",
       "Exited             0\n",
       "dtype: int64"
      ]
     },
     "execution_count": 174,
     "metadata": {},
     "output_type": "execute_result"
    }
   ],
   "source": [
    "data.isna().sum()"
   ]
  },
  {
   "cell_type": "markdown",
   "metadata": {},
   "source": [
    "There is no Missing Values in the dataset"
   ]
  },
  {
   "cell_type": "markdown",
   "metadata": {
    "colab_type": "text",
    "id": "N6bQ0UgSU-NJ"
   },
   "source": [
    "### Encoding categorical data"
   ]
  },
  {
   "cell_type": "markdown",
   "metadata": {
    "colab_type": "text",
    "id": "le5MJreAbW52"
   },
   "source": [
    "Label Encoding the \"Gender\" column"
   ]
  },
  {
   "cell_type": "code",
   "execution_count": 175,
   "metadata": {},
   "outputs": [],
   "source": [
    "from sklearn.preprocessing import LabelEncoder\n",
    "\n",
    "le = LabelEncoder()\n",
    "X[:,2] = le.fit_transform(X[:,2])"
   ]
  },
  {
   "cell_type": "markdown",
   "metadata": {
    "colab_type": "text",
    "id": "CUxGZezpbMcb"
   },
   "source": [
    "One Hot Encoding the \"Geography\" column"
   ]
  },
  {
   "cell_type": "code",
   "execution_count": 176,
   "metadata": {},
   "outputs": [],
   "source": [
    "from sklearn.compose import ColumnTransformer\n",
    "from sklearn.preprocessing import OneHotEncoder\n",
    "\n",
    "ct = ColumnTransformer(transformers = [('encoder', OneHotEncoder(), [1])], remainder='passthrough')\n",
    "X = ct.fit_transform(X)"
   ]
  },
  {
   "cell_type": "code",
   "execution_count": 177,
   "metadata": {},
   "outputs": [
    {
     "name": "stdout",
     "output_type": "stream",
     "text": [
      "[1.0 0.0 0.0 619 0 42 2 0.0 1 1 1 101348.88]\n"
     ]
    }
   ],
   "source": [
    "print(X[0])"
   ]
  },
  {
   "cell_type": "markdown",
   "metadata": {
    "colab_type": "text",
    "id": "vHol938cW8zd"
   },
   "source": [
    "### Splitting the dataset into the Training set and Test set"
   ]
  },
  {
   "cell_type": "code",
   "execution_count": 178,
   "metadata": {},
   "outputs": [],
   "source": [
    "from sklearn.model_selection import train_test_split\n",
    "\n",
    "X_train, X_test, y_train, y_test = train_test_split(X, y, test_size = 0.2)"
   ]
  },
  {
   "cell_type": "markdown",
   "metadata": {
    "colab_type": "text",
    "id": "RE_FcHyfV3TQ"
   },
   "source": [
    "### Feature Scaling"
   ]
  },
  {
   "cell_type": "code",
   "execution_count": 179,
   "metadata": {},
   "outputs": [],
   "source": [
    "from sklearn.preprocessing import StandardScaler\n",
    "\n",
    "sc = StandardScaler()\n",
    "X_train = sc.fit_transform(X_train)\n",
    "X_test = sc.transform(X_test)"
   ]
  },
  {
   "cell_type": "code",
   "execution_count": 180,
   "metadata": {},
   "outputs": [
    {
     "data": {
      "text/plain": [
       "array([ 0.99750312, -0.57273139, -0.58004459,  1.57651993,  0.90704943,\n",
       "       -0.27603201, -1.37694145, -1.22214571,  0.81988483,  0.64784127,\n",
       "        0.97238125,  0.8599091 ])"
      ]
     },
     "execution_count": 180,
     "metadata": {},
     "output_type": "execute_result"
    }
   ],
   "source": [
    "X_train[0]"
   ]
  },
  {
   "cell_type": "markdown",
   "metadata": {
    "colab_type": "text",
    "id": "-zfEzkRVXIwF"
   },
   "source": [
    "## Part 2 - Building the ANN"
   ]
  },
  {
   "cell_type": "markdown",
   "metadata": {
    "colab_type": "text",
    "id": "KvdeScabXtlB"
   },
   "source": [
    "### Initializing the ANN"
   ]
  },
  {
   "cell_type": "code",
   "execution_count": 181,
   "metadata": {},
   "outputs": [],
   "source": [
    "ann = tf.keras.models.Sequential()"
   ]
  },
  {
   "cell_type": "markdown",
   "metadata": {
    "colab_type": "text",
    "id": "rP6urV6SX7kS"
   },
   "source": [
    "### Adding the input layer and the first hidden layer"
   ]
  },
  {
   "cell_type": "code",
   "execution_count": 182,
   "metadata": {},
   "outputs": [],
   "source": [
    "ann.add(tf.keras.layers.Dense(units = 6, activation = 'relu'))"
   ]
  },
  {
   "cell_type": "markdown",
   "metadata": {
    "colab_type": "text",
    "id": "BELWAc_8YJze"
   },
   "source": [
    "### Adding the second hidden layer"
   ]
  },
  {
   "cell_type": "code",
   "execution_count": 183,
   "metadata": {},
   "outputs": [],
   "source": [
    "ann.add(tf.keras.layers.Dense(units = 6, activation = 'relu'))"
   ]
  },
  {
   "cell_type": "markdown",
   "metadata": {
    "colab_type": "text",
    "id": "OyNEe6RXYcU4"
   },
   "source": [
    "### Adding the output layer"
   ]
  },
  {
   "cell_type": "code",
   "execution_count": 184,
   "metadata": {},
   "outputs": [],
   "source": [
    "ann.add(tf.keras.layers.Dense(units = 1, activation = 'sigmoid'))"
   ]
  },
  {
   "cell_type": "markdown",
   "metadata": {
    "colab_type": "text",
    "id": "JT4u2S1_Y4WG"
   },
   "source": [
    "## Part 3 - Training the ANN"
   ]
  },
  {
   "cell_type": "markdown",
   "metadata": {
    "colab_type": "text",
    "id": "8GWlJChhY_ZI"
   },
   "source": [
    "### Compiling the ANN"
   ]
  },
  {
   "cell_type": "code",
   "execution_count": 185,
   "metadata": {},
   "outputs": [],
   "source": [
    "ann.compile(loss='binary_crossentropy', optimizer='adam', metrics=['accuracy'])"
   ]
  },
  {
   "cell_type": "markdown",
   "metadata": {
    "colab_type": "text",
    "id": "0QR_G5u7ZLSM"
   },
   "source": [
    "### Training the ANN on the Training set"
   ]
  },
  {
   "cell_type": "code",
   "execution_count": 187,
   "metadata": {},
   "outputs": [
    {
     "name": "stdout",
     "output_type": "stream",
     "text": [
      "Epoch 1/100\n",
      "8000/8000 [==============================] - 1s 148us/sample - loss: 0.3374 - acc: 0.8629\n",
      "Epoch 2/100\n",
      "8000/8000 [==============================] - 1s 128us/sample - loss: 0.3363 - acc: 0.8636\n",
      "Epoch 3/100\n",
      "8000/8000 [==============================] - 1s 121us/sample - loss: 0.3363 - acc: 0.8621\n",
      "Epoch 4/100\n",
      "8000/8000 [==============================] - 1s 116us/sample - loss: 0.3364 - acc: 0.8619\n",
      "Epoch 5/100\n",
      "8000/8000 [==============================] - 1s 125us/sample - loss: 0.3360 - acc: 0.8651\n",
      "Epoch 6/100\n",
      "8000/8000 [==============================] - 1s 140us/sample - loss: 0.3355 - acc: 0.8618\n",
      "Epoch 7/100\n",
      "8000/8000 [==============================] - 1s 123us/sample - loss: 0.3357 - acc: 0.8610\n",
      "Epoch 8/100\n",
      "8000/8000 [==============================] - 1s 129us/sample - loss: 0.3355 - acc: 0.8626\n",
      "Epoch 9/100\n",
      "8000/8000 [==============================] - 1s 141us/sample - loss: 0.3354 - acc: 0.8625\n",
      "Epoch 10/100\n",
      "8000/8000 [==============================] - 1s 114us/sample - loss: 0.3337 - acc: 0.8645\n",
      "Epoch 11/100\n",
      "8000/8000 [==============================] - 1s 116us/sample - loss: 0.3349 - acc: 0.8616\n",
      "Epoch 12/100\n",
      "8000/8000 [==============================] - 1s 122us/sample - loss: 0.3347 - acc: 0.8624\n",
      "Epoch 13/100\n",
      "8000/8000 [==============================] - 1s 122us/sample - loss: 0.3342 - acc: 0.8641\n",
      "Epoch 14/100\n",
      "8000/8000 [==============================] - 1s 119us/sample - loss: 0.3338 - acc: 0.8618\n",
      "Epoch 15/100\n",
      "8000/8000 [==============================] - 1s 120us/sample - loss: 0.3345 - acc: 0.8625\n",
      "Epoch 16/100\n",
      "8000/8000 [==============================] - 1s 117us/sample - loss: 0.3342 - acc: 0.8630\n",
      "Epoch 17/100\n",
      "8000/8000 [==============================] - 1s 122us/sample - loss: 0.3342 - acc: 0.8643\n",
      "Epoch 18/100\n",
      "8000/8000 [==============================] - 1s 128us/sample - loss: 0.3341 - acc: 0.8633s - loss: 0.3331 - acc: 0.863\n",
      "Epoch 19/100\n",
      "8000/8000 [==============================] - 1s 118us/sample - loss: 0.3345 - acc: 0.8635\n",
      "Epoch 20/100\n",
      "8000/8000 [==============================] - 1s 121us/sample - loss: 0.3338 - acc: 0.8637\n",
      "Epoch 21/100\n",
      "8000/8000 [==============================] - 1s 129us/sample - loss: 0.3334 - acc: 0.8633\n",
      "Epoch 22/100\n",
      "8000/8000 [==============================] - 1s 127us/sample - loss: 0.3337 - acc: 0.8625\n",
      "Epoch 23/100\n",
      "8000/8000 [==============================] - 1s 129us/sample - loss: 0.3334 - acc: 0.8631\n",
      "Epoch 24/100\n",
      "8000/8000 [==============================] - 1s 135us/sample - loss: 0.3332 - acc: 0.8635\n",
      "Epoch 25/100\n",
      "8000/8000 [==============================] - 1s 124us/sample - loss: 0.3335 - acc: 0.8631\n",
      "Epoch 26/100\n",
      "8000/8000 [==============================] - 1s 120us/sample - loss: 0.3334 - acc: 0.8627\n",
      "Epoch 27/100\n",
      "8000/8000 [==============================] - 1s 128us/sample - loss: 0.3329 - acc: 0.8640\n",
      "Epoch 28/100\n",
      "8000/8000 [==============================] - 1s 132us/sample - loss: 0.3327 - acc: 0.8634\n",
      "Epoch 29/100\n",
      "8000/8000 [==============================] - 1s 126us/sample - loss: 0.3343 - acc: 0.8624\n",
      "Epoch 30/100\n",
      "8000/8000 [==============================] - 1s 126us/sample - loss: 0.3332 - acc: 0.8631\n",
      "Epoch 31/100\n",
      "8000/8000 [==============================] - 1s 144us/sample - loss: 0.3323 - acc: 0.8641\n",
      "Epoch 32/100\n",
      "8000/8000 [==============================] - 1s 183us/sample - loss: 0.3332 - acc: 0.8626\n",
      "Epoch 33/100\n",
      "8000/8000 [==============================] - 1s 151us/sample - loss: 0.3328 - acc: 0.8622\n",
      "Epoch 34/100\n",
      "8000/8000 [==============================] - 1s 133us/sample - loss: 0.3330 - acc: 0.8631\n",
      "Epoch 35/100\n",
      "8000/8000 [==============================] - 1s 121us/sample - loss: 0.3326 - acc: 0.8631\n",
      "Epoch 36/100\n",
      "8000/8000 [==============================] - 1s 140us/sample - loss: 0.3322 - acc: 0.8622\n",
      "Epoch 37/100\n",
      "8000/8000 [==============================] - 1s 125us/sample - loss: 0.3327 - acc: 0.8627\n",
      "Epoch 38/100\n",
      "8000/8000 [==============================] - 1s 167us/sample - loss: 0.3323 - acc: 0.8636\n",
      "Epoch 39/100\n",
      "8000/8000 [==============================] - 2s 205us/sample - loss: 0.3320 - acc: 0.8637\n",
      "Epoch 40/100\n",
      "8000/8000 [==============================] - 1s 187us/sample - loss: 0.3318 - acc: 0.8633\n",
      "Epoch 41/100\n",
      "8000/8000 [==============================] - 1s 125us/sample - loss: 0.3320 - acc: 0.8629\n",
      "Epoch 42/100\n",
      "8000/8000 [==============================] - 1s 114us/sample - loss: 0.3322 - acc: 0.8630\n",
      "Epoch 43/100\n",
      "8000/8000 [==============================] - 1s 107us/sample - loss: 0.3318 - acc: 0.8634s - loss: 0.32\n",
      "Epoch 44/100\n",
      "8000/8000 [==============================] - 1s 108us/sample - loss: 0.3317 - acc: 0.8656\n",
      "Epoch 45/100\n",
      "8000/8000 [==============================] - 1s 115us/sample - loss: 0.3314 - acc: 0.8637\n",
      "Epoch 46/100\n",
      "8000/8000 [==============================] - 1s 107us/sample - loss: 0.3314 - acc: 0.8644\n",
      "Epoch 47/100\n",
      "8000/8000 [==============================] - 1s 112us/sample - loss: 0.3316 - acc: 0.8637\n",
      "Epoch 48/100\n",
      "8000/8000 [==============================] - 2s 190us/sample - loss: 0.3316 - acc: 0.8625\n",
      "Epoch 49/100\n",
      "8000/8000 [==============================] - 2s 198us/sample - loss: 0.3308 - acc: 0.8654\n",
      "Epoch 50/100\n",
      "8000/8000 [==============================] - 2s 190us/sample - loss: 0.3307 - acc: 0.8636\n",
      "Epoch 51/100\n",
      "8000/8000 [==============================] - 1s 154us/sample - loss: 0.3310 - acc: 0.8659\n",
      "Epoch 52/100\n",
      "8000/8000 [==============================] - 1s 166us/sample - loss: 0.3316 - acc: 0.8650\n",
      "Epoch 53/100\n",
      "8000/8000 [==============================] - 1s 137us/sample - loss: 0.3311 - acc: 0.8639\n",
      "Epoch 54/100\n",
      "8000/8000 [==============================] - 1s 107us/sample - loss: 0.3300 - acc: 0.8655\n",
      "Epoch 55/100\n",
      "8000/8000 [==============================] - 1s 112us/sample - loss: 0.3308 - acc: 0.8639\n",
      "Epoch 56/100\n",
      "8000/8000 [==============================] - 1s 110us/sample - loss: 0.3305 - acc: 0.8640\n",
      "Epoch 57/100\n",
      "8000/8000 [==============================] - 1s 116us/sample - loss: 0.3303 - acc: 0.8634\n",
      "Epoch 58/100\n",
      "8000/8000 [==============================] - 1s 117us/sample - loss: 0.3305 - acc: 0.8637\n",
      "Epoch 59/100\n",
      "8000/8000 [==============================] - 1s 111us/sample - loss: 0.3314 - acc: 0.8622\n",
      "Epoch 60/100\n",
      "8000/8000 [==============================] - 1s 113us/sample - loss: 0.3310 - acc: 0.8646\n",
      "Epoch 61/100\n",
      "8000/8000 [==============================] - 1s 110us/sample - loss: 0.3301 - acc: 0.8645\n",
      "Epoch 62/100\n",
      "8000/8000 [==============================] - 1s 134us/sample - loss: 0.3307 - acc: 0.8649\n",
      "Epoch 63/100\n",
      "8000/8000 [==============================] - 1s 140us/sample - loss: 0.3298 - acc: 0.8651\n",
      "Epoch 64/100\n",
      "8000/8000 [==============================] - 1s 121us/sample - loss: 0.3307 - acc: 0.8637\n",
      "Epoch 65/100\n",
      "8000/8000 [==============================] - 1s 167us/sample - loss: 0.3303 - acc: 0.8652\n",
      "Epoch 66/100\n",
      "8000/8000 [==============================] - 1s 141us/sample - loss: 0.3307 - acc: 0.8649\n",
      "Epoch 67/100\n",
      "8000/8000 [==============================] - 1s 165us/sample - loss: 0.3304 - acc: 0.8650\n",
      "Epoch 68/100\n",
      "8000/8000 [==============================] - 1s 180us/sample - loss: 0.3296 - acc: 0.8649\n",
      "Epoch 69/100\n",
      "8000/8000 [==============================] - 1s 169us/sample - loss: 0.3298 - acc: 0.8649\n",
      "Epoch 70/100\n",
      "8000/8000 [==============================] - 1s 175us/sample - loss: 0.3302 - acc: 0.8658\n",
      "Epoch 71/100\n",
      "8000/8000 [==============================] - 1s 174us/sample - loss: 0.3298 - acc: 0.8627\n",
      "Epoch 72/100\n",
      "8000/8000 [==============================] - 1s 177us/sample - loss: 0.3295 - acc: 0.8648\n",
      "Epoch 73/100\n",
      "8000/8000 [==============================] - 1s 158us/sample - loss: 0.3301 - acc: 0.8636\n",
      "Epoch 74/100\n",
      "8000/8000 [==============================] - 1s 169us/sample - loss: 0.3295 - acc: 0.8648\n",
      "Epoch 75/100\n",
      "8000/8000 [==============================] - 1s 155us/sample - loss: 0.3297 - acc: 0.8658s - loss: 0.3394 - acc: 0\n",
      "Epoch 76/100\n",
      "8000/8000 [==============================] - 1s 180us/sample - loss: 0.3303 - acc: 0.8645\n",
      "Epoch 77/100\n",
      "8000/8000 [==============================] - 1s 176us/sample - loss: 0.3298 - acc: 0.8636\n",
      "Epoch 78/100\n",
      "8000/8000 [==============================] - 2s 188us/sample - loss: 0.3290 - acc: 0.8645\n",
      "Epoch 79/100\n",
      "8000/8000 [==============================] - 1s 180us/sample - loss: 0.3297 - acc: 0.8664\n",
      "Epoch 80/100\n",
      "8000/8000 [==============================] - 2s 208us/sample - loss: 0.3288 - acc: 0.8654\n",
      "Epoch 81/100\n",
      "8000/8000 [==============================] - 2s 196us/sample - loss: 0.3292 - acc: 0.8652s - l\n",
      "Epoch 82/100\n",
      "8000/8000 [==============================] - 1s 175us/sample - loss: 0.3289 - acc: 0.8640\n",
      "Epoch 83/100\n",
      "8000/8000 [==============================] - 1s 180us/sample - loss: 0.3286 - acc: 0.8675\n",
      "Epoch 84/100\n",
      "8000/8000 [==============================] - 1s 178us/sample - loss: 0.3289 - acc: 0.8635\n",
      "Epoch 85/100\n",
      "8000/8000 [==============================] - 1s 130us/sample - loss: 0.3294 - acc: 0.8645\n",
      "Epoch 86/100\n",
      "8000/8000 [==============================] - 1s 119us/sample - loss: 0.3288 - acc: 0.8675\n",
      "Epoch 87/100\n",
      "8000/8000 [==============================] - 1s 136us/sample - loss: 0.3285 - acc: 0.8643\n",
      "Epoch 88/100\n",
      "8000/8000 [==============================] - 1s 121us/sample - loss: 0.3294 - acc: 0.8649\n",
      "Epoch 89/100\n",
      "8000/8000 [==============================] - 1s 120us/sample - loss: 0.3282 - acc: 0.8659\n",
      "Epoch 90/100\n",
      "8000/8000 [==============================] - 1s 116us/sample - loss: 0.3287 - acc: 0.8637\n",
      "Epoch 91/100\n",
      "8000/8000 [==============================] - 1s 117us/sample - loss: 0.3291 - acc: 0.8650\n",
      "Epoch 92/100\n",
      "8000/8000 [==============================] - 1s 164us/sample - loss: 0.3285 - acc: 0.8655\n",
      "Epoch 93/100\n",
      "8000/8000 [==============================] - 1s 171us/sample - loss: 0.3281 - acc: 0.8665\n",
      "Epoch 94/100\n",
      "8000/8000 [==============================] - 1s 161us/sample - loss: 0.3285 - acc: 0.8668\n",
      "Epoch 95/100\n",
      "8000/8000 [==============================] - 1s 152us/sample - loss: 0.3282 - acc: 0.8674\n",
      "Epoch 96/100\n",
      "8000/8000 [==============================] - 1s 120us/sample - loss: 0.3285 - acc: 0.8655\n",
      "Epoch 97/100\n",
      "8000/8000 [==============================] - 1s 125us/sample - loss: 0.3284 - acc: 0.8658\n",
      "Epoch 98/100\n",
      "8000/8000 [==============================] - 1s 141us/sample - loss: 0.3284 - acc: 0.8658\n",
      "Epoch 99/100\n",
      "8000/8000 [==============================] - 1s 130us/sample - loss: 0.3284 - acc: 0.8645\n",
      "Epoch 100/100\n",
      "8000/8000 [==============================] - 1s 122us/sample - loss: 0.3282 - acc: 0.8669\n"
     ]
    },
    {
     "data": {
      "text/plain": [
       "<tensorflow.python.keras.callbacks.History at 0x26fdf7568d0>"
      ]
     },
     "execution_count": 187,
     "metadata": {},
     "output_type": "execute_result"
    }
   ],
   "source": [
    "ann.fit(X_train, y_train, batch_size = 20, epochs = 100)"
   ]
  },
  {
   "cell_type": "markdown",
   "metadata": {
    "colab_type": "text",
    "id": "tJj5k2MxZga3"
   },
   "source": [
    "## Part 4 - Making the predictions and evaluating the model"
   ]
  },
  {
   "cell_type": "markdown",
   "metadata": {
    "colab_type": "text",
    "id": "84QFoqGYeXHL"
   },
   "source": [
    "### Predicting the result of a single observation"
   ]
  },
  {
   "cell_type": "markdown",
   "metadata": {
    "colab_type": "text",
    "id": "CGRo3eacgDdC"
   },
   "source": [
    "**Homework**\n",
    "\n",
    "Use our ANN model to predict if the customer with the following informations will leave the bank: \n",
    "\n",
    "Geography: France\n",
    "\n",
    "Credit Score: 600\n",
    "\n",
    "Gender: Male\n",
    "\n",
    "Age: 40 years old\n",
    "\n",
    "Tenure: 3 years\n",
    "\n",
    "Balance: \\$ 60000\n",
    "\n",
    "Number of Products: 2\n",
    "\n",
    "Does this customer have a credit card ? Yes\n",
    "\n",
    "Is this customer an Active Member: Yes\n",
    "\n",
    "Estimated Salary: \\$ 50000\n",
    "\n",
    "So, should we say goodbye to that customer ?"
   ]
  },
  {
   "cell_type": "markdown",
   "metadata": {
    "colab_type": "text",
    "id": "ZhU1LTgPg-kH"
   },
   "source": [
    "**Solution**"
   ]
  },
  {
   "cell_type": "code",
   "execution_count": 188,
   "metadata": {},
   "outputs": [
    {
     "name": "stdout",
     "output_type": "stream",
     "text": [
      "Customer stays in the bank\n"
     ]
    }
   ],
   "source": [
    "X_test_1 = np.array([[600, 'France', 'Female', 40, 3, 60000, 2, 1, 1, 50000]])\n",
    "\n",
    "\n",
    "X_test_1[:, 2] = le.transform(X_test_1[:, 2]) ; X_test_1 = ct.transform(X_test_1); X_test_1 = sc.transform(X_test_1)\n",
    "\n",
    "if ann.predict(X_test_1) > 0.5 : \n",
    "    print('Customer will leave')\n",
    "else : \n",
    "    print('Customer stays in the bank')"
   ]
  },
  {
   "cell_type": "markdown",
   "metadata": {},
   "source": [
    "....................................................................................................................................................."
   ]
  },
  {
   "cell_type": "markdown",
   "metadata": {
    "colab_type": "text",
    "id": "wGjx94g2n7OV"
   },
   "source": [
    "Therefore, our ANN model predicts that this customer stays in the bank!\n",
    "\n",
    "**Important note 1:** Notice that the values of the features were all input in a double pair of square brackets. That's because the \"predict\" method always expects a 2D array as the format of its inputs. And putting our values into a double pair of square brackets makes the input exactly a 2D array.\n",
    "\n",
    "**Important note 2:** Notice also that the \"France\" country was not input as a string in the last column but as \"1, 0, 0\" in the first three columns. That's because of course the predict method expects the one-hot-encoded values of the state, and as we see in the first row of the matrix of features X, \"France\" was encoded as \"1, 0, 0\". And be careful to include these values in the first three columns, because the dummy variables are always created in the first columns."
   ]
  },
  {
   "cell_type": "markdown",
   "metadata": {
    "colab_type": "text",
    "id": "u7yx47jPZt11"
   },
   "source": [
    "### Predicting the Test set results"
   ]
  },
  {
   "cell_type": "code",
   "execution_count": 189,
   "metadata": {},
   "outputs": [],
   "source": [
    "y_pred = ann.predict(X_test)\n",
    "y_pred = np.where(y_pred > 0.5, 1,0)"
   ]
  },
  {
   "cell_type": "markdown",
   "metadata": {
    "colab_type": "text",
    "id": "o0oyfLWoaEGw"
   },
   "source": [
    "### Making the Confusion Matrix"
   ]
  },
  {
   "cell_type": "code",
   "execution_count": 190,
   "metadata": {},
   "outputs": [
    {
     "data": {
      "text/plain": [
       "array([[1528,   61],\n",
       "       [ 225,  186]], dtype=int64)"
      ]
     },
     "execution_count": 190,
     "metadata": {},
     "output_type": "execute_result"
    }
   ],
   "source": [
    "from sklearn.metrics import confusion_matrix\n",
    "\n",
    "confusion_matrix(y_test, y_pred)"
   ]
  },
  {
   "cell_type": "code",
   "execution_count": 191,
   "metadata": {},
   "outputs": [
    {
     "data": {
      "text/plain": [
       "0.857"
      ]
     },
     "execution_count": 191,
     "metadata": {},
     "output_type": "execute_result"
    }
   ],
   "source": [
    "from sklearn.metrics import accuracy_score\n",
    "accuracy_score(y_test, y_pred)"
   ]
  }
 ],
 "metadata": {
  "colab": {
   "collapsed_sections": [],
   "name": "artificial_neural_network.ipynb",
   "provenance": [],
   "toc_visible": true
  },
  "kernelspec": {
   "display_name": "Python 3",
   "language": "python",
   "name": "python3"
  },
  "language_info": {
   "codemirror_mode": {
    "name": "ipython",
    "version": 3
   },
   "file_extension": ".py",
   "mimetype": "text/x-python",
   "name": "python",
   "nbconvert_exporter": "python",
   "pygments_lexer": "ipython3",
   "version": "3.7.3"
  }
 },
 "nbformat": 4,
 "nbformat_minor": 4
}
